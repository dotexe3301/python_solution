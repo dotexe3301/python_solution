{
 "cells": [
  {
   "cell_type": "code",
   "execution_count": 1,
   "id": "8b978ef6",
   "metadata": {},
   "outputs": [
    {
     "name": "stdout",
     "output_type": "stream",
     "text": [
      "1 2 3 4 5 6 7 8 9 10 "
     ]
    }
   ],
   "source": [
    "# (Q1)print first 10 natural numbers using while loop\n",
    "\n",
    "i=1\n",
    "while(i!=11):\n",
    "    print(i,end=\" \")\n",
    "    i = i+1"
   ]
  },
  {
   "cell_type": "code",
   "execution_count": 2,
   "id": "1e1501b3",
   "metadata": {},
   "outputs": [
    {
     "name": "stdout",
     "output_type": "stream",
     "text": [
      "\n",
      "\n",
      "1 \n",
      "\n",
      "1 2 \n",
      "\n",
      "1 2 3 \n",
      "\n",
      "1 2 3 4 \n",
      "\n",
      "1 2 3 4 5 \n",
      "\n"
     ]
    }
   ],
   "source": [
    "#(Q2) print the pattern\n",
    "for i in range(1,7):\n",
    "    for j in range(1,i):\n",
    "        print(j,end=\" \")\n",
    "    print(\"\\n\")\n",
    "        "
   ]
  },
  {
   "cell_type": "code",
   "execution_count": 3,
   "id": "b9681352",
   "metadata": {},
   "outputs": [
    {
     "name": "stdout",
     "output_type": "stream",
     "text": [
      "Enter a number : 10\n",
      "55\n"
     ]
    }
   ],
   "source": [
    "#(Q3)calculate the sum of all numbers from 1 to a given number\n",
    "\n",
    "num = int(input(\"Enter a number : \"))\n",
    "sum = 0\n",
    "for i in range(1,num+1):\n",
    "    sum = sum+i\n",
    "print(sum)"
   ]
  },
  {
   "cell_type": "code",
   "execution_count": 4,
   "id": "c26069af",
   "metadata": {},
   "outputs": [
    {
     "name": "stdout",
     "output_type": "stream",
     "text": [
      "Enter a number2\n",
      "2  x  1  =  2\n",
      "2  x  2  =  4\n",
      "2  x  3  =  6\n",
      "2  x  4  =  8\n",
      "2  x  5  =  10\n",
      "2  x  6  =  12\n",
      "2  x  7  =  14\n",
      "2  x  8  =  16\n",
      "2  x  9  =  18\n",
      "2  x  10  =  20\n"
     ]
    }
   ],
   "source": [
    "#(Q4)print a table of given number\n",
    "num = int(input(\"Enter a number\"))\n",
    "for i in range(1,11):\n",
    "    print(num,\" x \",i,\" = \",num*i)"
   ]
  },
  {
   "cell_type": "code",
   "execution_count": 5,
   "id": "bd55c6fb",
   "metadata": {},
   "outputs": [],
   "source": [
    "# (Q5)display numbers from a list using loop . write a program to display only those number from a list that satisfy following condition;\n",
    "\n"
   ]
  },
  {
   "cell_type": "code",
   "execution_count": 6,
   "id": "d19ea06c",
   "metadata": {},
   "outputs": [
    {
     "name": "stdout",
     "output_type": "stream",
     "text": [
      "Enter the number: 123456\n",
      "Size = 6\n"
     ]
    }
   ],
   "source": [
    "#(Q6) count the total number of digits in number\n",
    "x = input(\"Enter the number: \")\n",
    "print(\"Size =\",len(x))"
   ]
  },
  {
   "cell_type": "code",
   "execution_count": 7,
   "id": "91a0c744",
   "metadata": {},
   "outputs": [
    {
     "name": "stdout",
     "output_type": "stream",
     "text": [
      "5 4 3 2 1 \n",
      "\n",
      "4 3 2 1 \n",
      "\n",
      "3 2 1 \n",
      "\n",
      "2 1 \n",
      "\n",
      "1 \n",
      "\n"
     ]
    }
   ],
   "source": [
    "# (Q7)print the pattern\n",
    "for i in range(5,0,-1):\n",
    "    for j in range(i,0,-1):\n",
    "        print(j,end=\" \")\n",
    "    print(\"\\n\")\n",
    "        "
   ]
  },
  {
   "cell_type": "code",
   "execution_count": 8,
   "id": "8bbc06ea",
   "metadata": {},
   "outputs": [
    {
     "name": "stdout",
     "output_type": "stream",
     "text": [
      "96 13 69 24 67 23 "
     ]
    }
   ],
   "source": [
    "# (Q8)print list in reverse order using loop\n",
    "list_temp = [23,67,24,69,13,96]\n",
    "l = len(list_temp)\n",
    "i = l - 1\n",
    "while (i >= 0):\n",
    "    print(list_temp[i], end=' ')\n",
    "    i = i - 1"
   ]
  },
  {
   "cell_type": "code",
   "execution_count": 9,
   "id": "a3c575d7",
   "metadata": {},
   "outputs": [
    {
     "name": "stdout",
     "output_type": "stream",
     "text": [
      "-10 -9 -8 -7 -6 -5 -4 -3 -2 -1 "
     ]
    }
   ],
   "source": [
    "# (Q9)display number from -10 to -1 using loop\n",
    "\n",
    "for i in range(-10,0):\n",
    "    print(i,end=\" \")"
   ]
  },
  {
   "cell_type": "code",
   "execution_count": 10,
   "id": "0c78a310",
   "metadata": {},
   "outputs": [],
   "source": [
    "# (Q10) use else block to display a message \"done\" after successful execution of for loop\n"
   ]
  },
  {
   "cell_type": "code",
   "execution_count": 11,
   "id": "e2fd90cd",
   "metadata": {},
   "outputs": [
    {
     "name": "stdout",
     "output_type": "stream",
     "text": [
      "Enter first number1\n",
      "Enter second number20\n",
      "Prime numbers between 1 and 20 are:\n",
      "2\n",
      "3\n",
      "5\n",
      "7\n",
      "11\n",
      "13\n",
      "17\n",
      "19\n"
     ]
    }
   ],
   "source": [
    "# (Q11)Write a program to display all prime number within a range\n",
    "lower = int(input(\"Enter first number\"))\n",
    "upper = int(input(\"Enter second number\"))\n",
    "\n",
    "print(\"Prime numbers between\", lower, \"and\", upper, \"are:\")\n",
    "\n",
    "for num in range(lower, upper + 1):\n",
    "   if num > 1:\n",
    "       for i in range(2, num):\n",
    "           if (num % i) == 0:\n",
    "               break\n",
    "       else:\n",
    "           print(num)"
   ]
  },
  {
   "cell_type": "code",
   "execution_count": 12,
   "id": "670778c9",
   "metadata": {},
   "outputs": [
    {
     "name": "stdout",
     "output_type": "stream",
     "text": [
      "Enter a number : 10\n",
      "0\n",
      "1\n",
      "1\n",
      "2\n",
      "3\n",
      "5\n",
      "8\n",
      "13\n",
      "21\n",
      "34\n"
     ]
    }
   ],
   "source": [
    "# (Q12) display fibonacci series upto ten terms\n",
    "num = int(input(\"Enter a number : \"))\n",
    "a = 0\n",
    "b = 1\n",
    "print(a)\n",
    "print(b)\n",
    "for i in range(num-2):\n",
    "    c = a+b\n",
    "    print(c)\n",
    "    a= b\n",
    "    b= c\n",
    "    "
   ]
  },
  {
   "cell_type": "code",
   "execution_count": 13,
   "id": "d18ba124",
   "metadata": {},
   "outputs": [
    {
     "name": "stdout",
     "output_type": "stream",
     "text": [
      "Enter a number : 5\n",
      "120\n"
     ]
    }
   ],
   "source": [
    "# (Q13)find the factorial of a given number\n",
    "num = int(input(\"Enter a number : \"))\n",
    "fact = 1\n",
    "for i in range(1,num+1):\n",
    "    fact = fact*i\n",
    "print(fact)"
   ]
  },
  {
   "cell_type": "code",
   "execution_count": 14,
   "id": "b4fece8b",
   "metadata": {},
   "outputs": [
    {
     "name": "stdout",
     "output_type": "stream",
     "text": [
      "Enter a number: 05230\n",
      "03250"
     ]
    }
   ],
   "source": [
    "# (Q14) Reverse a given integer\n",
    "x = input(\"Enter a number: \")\n",
    "l = len(x)\n",
    "i = l - 1\n",
    "while (i >= 0):\n",
    "    print(x[i], end='')\n",
    "    i = i - 1"
   ]
  },
  {
   "cell_type": "code",
   "execution_count": 15,
   "id": "87768722",
   "metadata": {},
   "outputs": [
    {
     "name": "stdout",
     "output_type": "stream",
     "text": [
      "34 2 75 12 4 "
     ]
    },
    {
     "ename": "IndexError",
     "evalue": "list index out of range",
     "output_type": "error",
     "traceback": [
      "\u001b[1;31m---------------------------------------------------------------------------\u001b[0m",
      "\u001b[1;31mIndexError\u001b[0m                                Traceback (most recent call last)",
      "Input \u001b[1;32mIn [15]\u001b[0m, in \u001b[0;36m<cell line: 5>\u001b[1;34m()\u001b[0m\n\u001b[0;32m      3\u001b[0m list_temp \u001b[38;5;241m=\u001b[39m [\u001b[38;5;241m23\u001b[39m,\u001b[38;5;241m34\u001b[39m,\u001b[38;5;241m56\u001b[39m,\u001b[38;5;241m2\u001b[39m,\u001b[38;5;241m45\u001b[39m,\u001b[38;5;241m75\u001b[39m,\u001b[38;5;241m7\u001b[39m,\u001b[38;5;241m12\u001b[39m,\u001b[38;5;241m95\u001b[39m,\u001b[38;5;241m4\u001b[39m,\u001b[38;5;241m51\u001b[39m]\n\u001b[0;32m      5\u001b[0m \u001b[38;5;28;01mfor\u001b[39;00m i \u001b[38;5;129;01min\u001b[39;00m \u001b[38;5;28mrange\u001b[39m(\u001b[38;5;241m1\u001b[39m,\u001b[38;5;28mlen\u001b[39m(list_temp)\u001b[38;5;241m+\u001b[39m\u001b[38;5;241m1\u001b[39m,\u001b[38;5;241m2\u001b[39m):\n\u001b[1;32m----> 6\u001b[0m     \u001b[38;5;28mprint\u001b[39m(\u001b[43mlist_temp\u001b[49m\u001b[43m[\u001b[49m\u001b[43mi\u001b[49m\u001b[43m]\u001b[49m, end\u001b[38;5;241m=\u001b[39m\u001b[38;5;124m\"\u001b[39m\u001b[38;5;124m \u001b[39m\u001b[38;5;124m\"\u001b[39m)\n",
      "\u001b[1;31mIndexError\u001b[0m: list index out of range"
     ]
    }
   ],
   "source": [
    "# (Q15) Use a loop to display elements from a given list present at odd index positions\n",
    "\n",
    "list_temp = [23,34,56,2,45,75,7,12,95,4,51]\n",
    "\n",
    "for i in range(1,len(list_temp)+1,2):\n",
    "    print(list_temp[i], end=\" \")\n"
   ]
  },
  {
   "cell_type": "code",
   "execution_count": 16,
   "id": "54f97510",
   "metadata": {},
   "outputs": [
    {
     "name": "stdout",
     "output_type": "stream",
     "text": [
      "Enter a number : 10\n",
      "1 8 27 64 125 216 343 512 729 1000 "
     ]
    }
   ],
   "source": [
    "# (Q16) Calculate the cube of all number from one to a given number \n",
    "num = int(input('Enter a number : '))\n",
    "for i in range(1,num+1):\n",
    "    print(i*i*i, end=\" \")"
   ]
  },
  {
   "cell_type": "code",
   "execution_count": 17,
   "id": "7ddfe427",
   "metadata": {},
   "outputs": [
    {
     "name": "stdout",
     "output_type": "stream",
     "text": [
      "Enter the number of terms : 5\n",
      "2 + 22 + 222 + 2222 + 22222 + = 24690\n"
     ]
    }
   ],
   "source": [
    "# (Q17) Find the sum of series upto n terms for eg : 2+22+222+2222+22222=24690\n",
    "n = int(input(\"Enter the number of terms : \"))\n",
    "sum = 0\n",
    "term = 2\n",
    "\n",
    "for i in range(1, n+1):\n",
    "    print(term,\"+ \",end=\"\")\n",
    "    sum += term\n",
    "    term = term * 10 + 2\n",
    "\n",
    "print(\"=\",sum)"
   ]
  },
  {
   "cell_type": "code",
   "execution_count": 18,
   "id": "459ebd03",
   "metadata": {},
   "outputs": [
    {
     "name": "stdout",
     "output_type": "stream",
     "text": [
      "\n",
      "\n",
      "* \n",
      "\n",
      "* * \n",
      "\n",
      "* * * \n",
      "\n",
      "* * * * \n",
      "\n",
      "* * * * * \n",
      "\n",
      "* * * * \n",
      "\n",
      "* * * \n",
      "\n",
      "* * \n",
      "\n",
      "* \n",
      "\n"
     ]
    }
   ],
   "source": [
    "# (Q18) Print the pattern\n",
    "for i in range(1,6):\n",
    "    for j in range(1,i):\n",
    "        print(\"*\",end=\" \")\n",
    "    print(\"\\n\")\n",
    "for i in range(5,0,-1):\n",
    "    for j in range(i,0,-1):\n",
    "        print(\"*\",end=\" \")\n",
    "    print(\"\\n\")"
   ]
  }
 ],
 "metadata": {
  "kernelspec": {
   "display_name": "Python 3 (ipykernel)",
   "language": "python",
   "name": "python3"
  },
  "language_info": {
   "codemirror_mode": {
    "name": "ipython",
    "version": 3
   },
   "file_extension": ".py",
   "mimetype": "text/x-python",
   "name": "python",
   "nbconvert_exporter": "python",
   "pygments_lexer": "ipython3",
   "version": "3.9.12"
  }
 },
 "nbformat": 4,
 "nbformat_minor": 5
}
